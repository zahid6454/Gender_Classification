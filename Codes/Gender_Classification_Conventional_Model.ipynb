{
  "nbformat": 4,
  "nbformat_minor": 0,
  "metadata": {
    "colab": {
      "name": "Gender_Classification_Conventional_Model.ipynb",
      "provenance": [],
      "collapsed_sections": []
    },
    "kernelspec": {
      "name": "python3",
      "display_name": "Python 3"
    },
    "language_info": {
      "name": "python"
    }
  },
  "cells": [
    {
      "cell_type": "code",
      "metadata": {
        "colab": {
          "base_uri": "https://localhost:8080/"
        },
        "id": "lWIcFGb0q6b2",
        "outputId": "1e01759c-74ec-446b-ad31-085c9de32d36"
      },
      "source": [
        "from google.colab import drive\n",
        "drive.mount('/content/drive')"
      ],
      "execution_count": 1,
      "outputs": [
        {
          "output_type": "stream",
          "text": [
            "Drive already mounted at /content/drive; to attempt to forcibly remount, call drive.mount(\"/content/drive\", force_remount=True).\n"
          ],
          "name": "stdout"
        }
      ]
    },
    {
      "cell_type": "code",
      "metadata": {
        "id": "RF5WOYhxrFCv"
      },
      "source": [
        "# Python Pckages\n",
        "import random\n",
        "import pandas as pd\n",
        "import numpy as np\n",
        "from tabulate import tabulate\n",
        "\n",
        "# ML Packages\n",
        "from sklearn import preprocessing\n",
        "from sklearn.model_selection import train_test_split\n",
        "from sklearn.model_selection import StratifiedKFold\n",
        "from sklearn.feature_extraction.text import CountVectorizer\n",
        "from sklearn.feature_extraction.text import TfidfVectorizer\n",
        "\n",
        "# ML Classifiers\n",
        "from sklearn.svm import SVC\n",
        "from sklearn.naive_bayes import MultinomialNB\n",
        "from sklearn.linear_model import LogisticRegression\n",
        "from sklearn.ensemble import RandomForestClassifier\n",
        "from sklearn.ensemble import AdaBoostClassifier\n",
        "from sklearn.ensemble import GradientBoostingClassifier\n",
        "\n",
        "# ML Metrics\n",
        "from sklearn.metrics import accuracy_score, precision_score, recall_score, f1_score"
      ],
      "execution_count": 2,
      "outputs": []
    },
    {
      "cell_type": "code",
      "metadata": {
        "id": "5Usev8P7rw-q"
      },
      "source": [
        "def data_preprocessing(df):\n",
        "  # Removing NaN Data\n",
        "  df = df.dropna()\n",
        "\n",
        "  # Seperating Male Indices and Female Indices\n",
        "  male_df = []\n",
        "  female_df = []\n",
        "  for i in range(df.shape[0]):\n",
        "    if df.iloc[i, 1] == 'male':\n",
        "      male_df.append(i)\n",
        "    elif df.iloc[i, 1] == 'female':\n",
        "      female_df.append(i)\n",
        "    df.iloc[i, 0] = str(df.iloc[i, 0]).lower()\n",
        "    \n",
        "  # Creating New Dataset where Number of Male == Number of Female\n",
        "  sampled_indices = list(random.sample(male_df, len(female_df))) + female_df\n",
        "  sampled_df = df.iloc[sampled_indices, :]\n",
        "\n",
        "  # Converting String Class to Numeric Value\n",
        "  encoder = preprocessing.LabelEncoder()\n",
        "  sampled_df.iloc[:, 1] = encoder.fit_transform(sampled_df.iloc[:, 1])\n",
        "  \n",
        "  sampled_df = sampled_df.sample(frac=1)\n",
        "\n",
        "  return sampled_df\n"
      ],
      "execution_count": 3,
      "outputs": []
    },
    {
      "cell_type": "code",
      "metadata": {
        "id": "W_5QZdt--Q6-"
      },
      "source": [
        "def vectorization(X_train, X_test, vectorizer, analyzer, max_features):\n",
        "  if vectorizer == \"CV\":\n",
        "    count_vectorizer = CountVectorizer(analyzer=analyzer, max_features=max_features)\n",
        "    X_train_transformed = count_vectorizer.fit_transform(X_train)\n",
        "    if X_test is not None:\n",
        "      X_test_transformed = count_vectorizer.transform(X_test)\n",
        "      return X_train_transformed, X_test_transformed\n",
        "    else:\n",
        "      return X_train_transformed, count_vectorizer\n",
        "  elif vectorizer == \"TFIDF\":\n",
        "    tfidf_vectorizer = TfidfVectorizer(analyzer=analyzer, max_features=max_features)\n",
        "    X_train_transformed = tfidf_vectorizer.fit_transform(X_train)\n",
        "    if X_test is not None:\n",
        "      X_test_transformed = tfidf_vectorizer.transform(X_test)\n",
        "      return X_train_transformed, X_test_transformed  \n",
        "    else:\n",
        "      return X_train_transformed, tfidf_vectorizer"
      ],
      "execution_count": 4,
      "outputs": []
    },
    {
      "cell_type": "code",
      "metadata": {
        "colab": {
          "base_uri": "https://localhost:8080/",
          "height": 202
        },
        "id": "gw2nRy4wrqC1",
        "outputId": "3a69c21c-3807-4a4b-a13e-6804ff85a2a3"
      },
      "source": [
        "# Load our data\n",
        "df = pd.read_csv(\"/content/drive/MyDrive/Colab Notebooks/Filtered_Dataset.csv\")\n",
        "df.head()"
      ],
      "execution_count": 5,
      "outputs": [
        {
          "output_type": "execute_result",
          "data": {
            "text/html": [
              "<div>\n",
              "<style scoped>\n",
              "    .dataframe tbody tr th:only-of-type {\n",
              "        vertical-align: middle;\n",
              "    }\n",
              "\n",
              "    .dataframe tbody tr th {\n",
              "        vertical-align: top;\n",
              "    }\n",
              "\n",
              "    .dataframe thead th {\n",
              "        text-align: right;\n",
              "    }\n",
              "</style>\n",
              "<table border=\"1\" class=\"dataframe\">\n",
              "  <thead>\n",
              "    <tr style=\"text-align: right;\">\n",
              "      <th></th>\n",
              "      <th>CUSTOMER_NAME</th>\n",
              "      <th>GENDER</th>\n",
              "    </tr>\n",
              "  </thead>\n",
              "  <tbody>\n",
              "    <tr>\n",
              "      <th>0</th>\n",
              "      <td>Md. Jamal</td>\n",
              "      <td>male</td>\n",
              "    </tr>\n",
              "    <tr>\n",
              "      <th>1</th>\n",
              "      <td>Beplob Chakrabarti</td>\n",
              "      <td>male</td>\n",
              "    </tr>\n",
              "    <tr>\n",
              "      <th>2</th>\n",
              "      <td>Mohammed Amran</td>\n",
              "      <td>male</td>\n",
              "    </tr>\n",
              "    <tr>\n",
              "      <th>3</th>\n",
              "      <td>Samim Ahmed</td>\n",
              "      <td>male</td>\n",
              "    </tr>\n",
              "    <tr>\n",
              "      <th>4</th>\n",
              "      <td>Md. Mamunor Rashid</td>\n",
              "      <td>male</td>\n",
              "    </tr>\n",
              "  </tbody>\n",
              "</table>\n",
              "</div>"
            ],
            "text/plain": [
              "        CUSTOMER_NAME GENDER\n",
              "0           Md. Jamal   male\n",
              "1  Beplob Chakrabarti   male\n",
              "2      Mohammed Amran   male\n",
              "3         Samim Ahmed   male\n",
              "4  Md. Mamunor Rashid   male"
            ]
          },
          "metadata": {
            "tags": []
          },
          "execution_count": 5
        }
      ]
    },
    {
      "cell_type": "code",
      "metadata": {
        "colab": {
          "base_uri": "https://localhost:8080/",
          "height": 633
        },
        "id": "mDySzRGRrsFD",
        "outputId": "34dd7ee0-d7b4-4ba0-88d6-36dea73d8815"
      },
      "source": [
        "processed_df = data_preprocessing(df)\n",
        "processed_df.head(10)"
      ],
      "execution_count": 6,
      "outputs": [
        {
          "output_type": "stream",
          "text": [
            "/usr/local/lib/python3.7/dist-packages/pandas/core/indexing.py:670: SettingWithCopyWarning: \n",
            "A value is trying to be set on a copy of a slice from a DataFrame\n",
            "\n",
            "See the caveats in the documentation: https://pandas.pydata.org/pandas-docs/stable/user_guide/indexing.html#returning-a-view-versus-a-copy\n",
            "  iloc._setitem_with_indexer(indexer, value)\n",
            "/usr/local/lib/python3.7/dist-packages/ipykernel_launcher.py:13: SettingWithCopyWarning: \n",
            "A value is trying to be set on a copy of a slice from a DataFrame\n",
            "\n",
            "See the caveats in the documentation: https://pandas.pydata.org/pandas-docs/stable/user_guide/indexing.html#returning-a-view-versus-a-copy\n",
            "  del sys.path[0]\n",
            "/usr/local/lib/python3.7/dist-packages/pandas/core/indexing.py:1781: SettingWithCopyWarning: \n",
            "A value is trying to be set on a copy of a slice from a DataFrame.\n",
            "Try using .loc[row_indexer,col_indexer] = value instead\n",
            "\n",
            "See the caveats in the documentation: https://pandas.pydata.org/pandas-docs/stable/user_guide/indexing.html#returning-a-view-versus-a-copy\n",
            "  self.obj[item_labels[indexer[info_axis]]] = value\n"
          ],
          "name": "stderr"
        },
        {
          "output_type": "execute_result",
          "data": {
            "text/html": [
              "<div>\n",
              "<style scoped>\n",
              "    .dataframe tbody tr th:only-of-type {\n",
              "        vertical-align: middle;\n",
              "    }\n",
              "\n",
              "    .dataframe tbody tr th {\n",
              "        vertical-align: top;\n",
              "    }\n",
              "\n",
              "    .dataframe thead th {\n",
              "        text-align: right;\n",
              "    }\n",
              "</style>\n",
              "<table border=\"1\" class=\"dataframe\">\n",
              "  <thead>\n",
              "    <tr style=\"text-align: right;\">\n",
              "      <th></th>\n",
              "      <th>CUSTOMER_NAME</th>\n",
              "      <th>GENDER</th>\n",
              "    </tr>\n",
              "  </thead>\n",
              "  <tbody>\n",
              "    <tr>\n",
              "      <th>6051</th>\n",
              "      <td>md mokchadul mondol</td>\n",
              "      <td>1</td>\n",
              "    </tr>\n",
              "    <tr>\n",
              "      <th>1145</th>\n",
              "      <td>md harun</td>\n",
              "      <td>1</td>\n",
              "    </tr>\n",
              "    <tr>\n",
              "      <th>15072</th>\n",
              "      <td>ali ahamad</td>\n",
              "      <td>1</td>\n",
              "    </tr>\n",
              "    <tr>\n",
              "      <th>10529</th>\n",
              "      <td>abul kasam</td>\n",
              "      <td>1</td>\n",
              "    </tr>\n",
              "    <tr>\n",
              "      <th>1666</th>\n",
              "      <td>mohammed kafil uddin</td>\n",
              "      <td>1</td>\n",
              "    </tr>\n",
              "    <tr>\n",
              "      <th>12512</th>\n",
              "      <td>mohammed rakib</td>\n",
              "      <td>1</td>\n",
              "    </tr>\n",
              "    <tr>\n",
              "      <th>2922</th>\n",
              "      <td>rabeya begum</td>\n",
              "      <td>0</td>\n",
              "    </tr>\n",
              "    <tr>\n",
              "      <th>7199</th>\n",
              "      <td>suraia begum</td>\n",
              "      <td>0</td>\n",
              "    </tr>\n",
              "    <tr>\n",
              "      <th>6086</th>\n",
              "      <td>ruma akter jahanara</td>\n",
              "      <td>0</td>\n",
              "    </tr>\n",
              "    <tr>\n",
              "      <th>12080</th>\n",
              "      <td>md. salim hasan miah</td>\n",
              "      <td>1</td>\n",
              "    </tr>\n",
              "  </tbody>\n",
              "</table>\n",
              "</div>"
            ],
            "text/plain": [
              "              CUSTOMER_NAME  GENDER\n",
              "6051    md mokchadul mondol       1\n",
              "1145               md harun       1\n",
              "15072            ali ahamad       1\n",
              "10529            abul kasam       1\n",
              "1666   mohammed kafil uddin       1\n",
              "12512        mohammed rakib       1\n",
              "2922           rabeya begum       0\n",
              "7199           suraia begum       0\n",
              "6086    ruma akter jahanara       0\n",
              "12080  md. salim hasan miah       1"
            ]
          },
          "metadata": {
            "tags": []
          },
          "execution_count": 6
        }
      ]
    },
    {
      "cell_type": "code",
      "metadata": {
        "id": "O_eeHbz0CnyP"
      },
      "source": [
        "X = np.array(processed_df.iloc[:, 0])\n",
        "y = np.array(processed_df.iloc[:, 1])"
      ],
      "execution_count": 7,
      "outputs": []
    },
    {
      "cell_type": "code",
      "metadata": {
        "id": "lh93dln1Cuv0"
      },
      "source": [
        "# classifiers = [LogisticRegression(), MultinomialNB(), RandomForestClassifier(), \n",
        "#                SVC(), AdaBoostClassifier(), GradientBoostingClassifier()]\n",
        "# classifiers"
      ],
      "execution_count": 8,
      "outputs": []
    },
    {
      "cell_type": "code",
      "metadata": {
        "id": "3NC-syrAVv1U"
      },
      "source": [
        "# classifier_names = ['Logistic Regression', 'Multinomial NB', 'Random Forest', 'SVC', 'AdaBoost', 'GradientBoost']"
      ],
      "execution_count": 9,
      "outputs": []
    },
    {
      "cell_type": "code",
      "metadata": {
        "id": "aUAeVJwlDO7L"
      },
      "source": [
        "# skf = StratifiedKFold(n_splits=5)\n",
        "# CV_train_table   = []\n",
        "# CV_test_table = []\n",
        "# for i in range(len(classifier_names)):\n",
        "#   print(f\"\\n### Classifier - > {classifier_names[i]}\\n\")\n",
        "\n",
        "#   train_accuracies = []\n",
        "#   train_precisions = []\n",
        "#   train_recalls    = []\n",
        "#   train_f1_scores  = []\n",
        "\n",
        "#   test_accuracies  = []\n",
        "#   test_precisions  = []\n",
        "#   test_recalls     = []\n",
        "#   test_f1_scores   = []\n",
        "\n",
        "#   CV = 0\n",
        "#   for train_index, test_index in skf.split(X, y):\n",
        "#     CV += 1\n",
        "#     X_train, X_test = X[train_index], X[test_index]\n",
        "#     y_train, y_test = y[train_index], y[test_index]\n",
        "\n",
        "#     X_train_transformed, X_test_transformed = vectorization(X_train, X_test, vectorizer=\"CV\", \n",
        "#                                                          analyzer=\"word\", max_features=2500)\n",
        "    \n",
        "#     classifiers[i].fit(X_train_transformed, y_train)\n",
        "#     train_prediction = classifiers[i].predict(X_train_transformed)\n",
        "#     test_prediction  = classifiers[i].predict(X_test_transformed)\n",
        "\n",
        "#     train_accuracy  = accuracy_score(y_train, train_prediction)\n",
        "#     train_precision = precision_score(y_train, train_prediction, average='weighted')\n",
        "#     train_recall    = recall_score(y_train, train_prediction, average='weighted')\n",
        "#     train_f1_score  = f1_score(y_train, train_prediction, average='weighted')\n",
        "\n",
        "#     test_accuracy  = accuracy_score(y_test, test_prediction)\n",
        "#     test_precision = precision_score(y_test, test_prediction, average='weighted')\n",
        "#     test_recall    = recall_score(y_test, test_prediction, average='weighted')\n",
        "#     test_f1_score  = f1_score(y_test, test_prediction, average='weighted')\n",
        "\n",
        "#     train_accuracies.append(train_accuracy)\n",
        "#     train_precisions.append(train_precision)\n",
        "#     train_recalls.append(train_recall)\n",
        "#     train_f1_scores.append(train_f1_score)\n",
        "\n",
        "#     test_accuracies.append(test_accuracy)\n",
        "#     test_precisions.append(test_precision)\n",
        "#     test_recalls.append(test_recall)\n",
        "#     test_f1_scores.append(test_f1_score)\n",
        "\n",
        "#     print(f\"CV {CV}\")\n",
        "\n",
        "\n",
        "#   CV_train_table.append([classifier_names[i],\n",
        "#                    round(np.mean(train_accuracies) * 100, 2),\n",
        "#                    round(np.mean(train_precisions) * 100, 2),\n",
        "#                    round(np.mean(train_recalls) * 100, 2),\n",
        "#                    round(np.mean(train_f1_scores) * 100, 2)])\n",
        "#   CV_test_table.append([classifier_names[i],\n",
        "#                    round(np.mean(test_accuracies) * 100, 2),\n",
        "#                    round(np.mean(test_precisions) * 100, 2),\n",
        "#                    round(np.mean(test_recalls) * 100, 2),\n",
        "#                    round(np.mean(test_f1_scores) * 100, 2)])  \n",
        "\n",
        "# print(\"\\n\\n## CV Train Result ##\\n\")\n",
        "# print(tabulate(CV_train_table, headers= ['Classifier', 'Accuracy', 'Precision', 'Recall', 'F1-Score']))\n",
        "\n",
        "# print(\"\\n\\n## CV Test Result ##\\n\")\n",
        "# print(tabulate(CV_test_table, headers= ['Classifier', 'Accuracy', 'Precision', 'Recall', 'F1-Score']))"
      ],
      "execution_count": 10,
      "outputs": []
    },
    {
      "cell_type": "code",
      "metadata": {
        "id": "01eCHyVRbqA8"
      },
      "source": [
        "X_transformed, vectorzier = vectorization(X, None, vectorizer=\"TFIDF\", \n",
        "                           analyzer=\"word\", max_features=2500)"
      ],
      "execution_count": 11,
      "outputs": []
    },
    {
      "cell_type": "code",
      "metadata": {
        "colab": {
          "base_uri": "https://localhost:8080/"
        },
        "id": "q-b5iHbAbqDD",
        "outputId": "6ed0b58c-081c-4a74-87ff-7ac2c62bf0ee"
      },
      "source": [
        "classifier = MultinomialNB()\n",
        "classifier.fit(X_transformed, y)"
      ],
      "execution_count": 12,
      "outputs": [
        {
          "output_type": "execute_result",
          "data": {
            "text/plain": [
              "MultinomialNB(alpha=1.0, class_prior=None, fit_prior=True)"
            ]
          },
          "metadata": {
            "tags": []
          },
          "execution_count": 12
        }
      ]
    },
    {
      "cell_type": "code",
      "metadata": {
        "id": "xvB27vTybqFS"
      },
      "source": [
        "test_names = [\"Rayhan Rashid\",\"Rani\",\n",
        "              \"Afsana Yeasmin Mili\",\n",
        "              \"Rayhana\",\n",
        "              \"Md. Zahid Hossain Khan\", \n",
        "              \"Shahriar Haque\", \n",
        "              \"Ashique Jubayer\",\n",
        "              \"Nowsin\", \n",
        "              \"Shajedul Islam\",\n",
        "              \"Saif Ahmed Anik\", \n",
        "              \"Toriqul Islam\",\n",
        "              \"Afrina Yeasmin Mithila\",\n",
        "              \"MD. Khalid Hossain Khan\",\n",
        "              \"Md. Faruque Hossain Khan\",\n",
        "              \"Md. Abdul Aziz Khan\",\n",
        "              \"Samsun Nahar\",\n",
        "              \"Farhana Sharmin\",\n",
        "              \"Mahbub Azam\",\n",
        "              \"Roni Hauladar\", \n",
        "              \"Chowdhuri Mofizur Rahman\",\n",
        "              \"Sajid Ahmed\",\n",
        "              \"Swakkhar Swatabda\",\n",
        "              \"Sabila Nowshin\",\n",
        "              \"Rifat Jabin\",\n",
        "              \"Tithi\",\n",
        "              \"Tanvir Rashid\",\n",
        "              \"Kamrul Islam Tushar\",\n",
        "              \"Sahanaj\",\n",
        "              \"Suma Akhter\",\n",
        "              \"Nishat Fariha\",\n",
        "              \"Faiza Alam\",\n",
        "              \"Ripon Khan\",\n",
        "              \"Ridita Afrin\"]\n",
        "test_vectors = vectorzier.transform(test_names).toarray()"
      ],
      "execution_count": 13,
      "outputs": []
    },
    {
      "cell_type": "code",
      "metadata": {
        "id": "sv8NotEWbqHo"
      },
      "source": [
        "test_predictions = list(classifier.predict(test_vectors))\n",
        "test_predictions = ['M' if prediction == 1 else 'F' for prediction in test_predictions]"
      ],
      "execution_count": 14,
      "outputs": []
    },
    {
      "cell_type": "code",
      "metadata": {
        "colab": {
          "base_uri": "https://localhost:8080/"
        },
        "id": "uYVavt0nbqJ5",
        "outputId": "03824360-8ed4-4b52-dbfb-acc2a22e0eb2"
      },
      "source": [
        "test_table = []\n",
        "for i in range(len(test_names)):\n",
        "  test_table.append([test_names[i], test_predictions[i]])\n",
        "print(\"\\n\\n## Test Names Result ##\\n\")\n",
        "print(tabulate(test_table, headers= ['Name', 'Gender']))"
      ],
      "execution_count": 15,
      "outputs": [
        {
          "output_type": "stream",
          "text": [
            "\n",
            "\n",
            "## Test Names Result ##\n",
            "\n",
            "Name                      Gender\n",
            "------------------------  --------\n",
            "Rayhan Rashid             M\n",
            "Rani                      F\n",
            "Afsana Yeasmin Mili       F\n",
            "Rayhana                   F\n",
            "Md. Zahid Hossain Khan    M\n",
            "Shahriar Haque            M\n",
            "Ashique Jubayer           F\n",
            "Nowsin                    F\n",
            "Shajedul Islam            M\n",
            "Saif Ahmed Anik           M\n",
            "Toriqul Islam             M\n",
            "Afrina Yeasmin Mithila    F\n",
            "MD. Khalid Hossain Khan   M\n",
            "Md. Faruque Hossain Khan  M\n",
            "Md. Abdul Aziz Khan       M\n",
            "Samsun Nahar              F\n",
            "Farhana Sharmin           F\n",
            "Mahbub Azam               M\n",
            "Roni Hauladar             M\n",
            "Chowdhuri Mofizur Rahman  M\n",
            "Sajid Ahmed               M\n",
            "Swakkhar Swatabda         F\n",
            "Sabila Nowshin            F\n",
            "Rifat Jabin               F\n",
            "Tithi                     F\n",
            "Tanvir Rashid             M\n",
            "Kamrul Islam Tushar       M\n",
            "Sahanaj                   F\n",
            "Suma Akhter               F\n",
            "Nishat Fariha             F\n",
            "Faiza Alam                M\n",
            "Ripon Khan                M\n",
            "Ridita Afrin              F\n"
          ],
          "name": "stdout"
        }
      ]
    },
    {
      "cell_type": "code",
      "metadata": {
        "id": "ybnKJ8JPbqT-",
        "colab": {
          "base_uri": "https://localhost:8080/",
          "height": 202
        },
        "outputId": "5a7ed6e4-0ab2-4b00-a8c1-916f8564fcd2"
      },
      "source": [
        "# Load test data\n",
        "test_df = pd.read_csv(\"/content/drive/MyDrive/Colab Notebooks/Test_Dataset.csv\")\n",
        "test_df.head()"
      ],
      "execution_count": 16,
      "outputs": [
        {
          "output_type": "execute_result",
          "data": {
            "text/html": [
              "<div>\n",
              "<style scoped>\n",
              "    .dataframe tbody tr th:only-of-type {\n",
              "        vertical-align: middle;\n",
              "    }\n",
              "\n",
              "    .dataframe tbody tr th {\n",
              "        vertical-align: top;\n",
              "    }\n",
              "\n",
              "    .dataframe thead th {\n",
              "        text-align: right;\n",
              "    }\n",
              "</style>\n",
              "<table border=\"1\" class=\"dataframe\">\n",
              "  <thead>\n",
              "    <tr style=\"text-align: right;\">\n",
              "      <th></th>\n",
              "      <th>CUSTOMER_NAME</th>\n",
              "      <th>GENDER</th>\n",
              "    </tr>\n",
              "  </thead>\n",
              "  <tbody>\n",
              "    <tr>\n",
              "      <th>0</th>\n",
              "      <td>subal banik</td>\n",
              "      <td>Male</td>\n",
              "    </tr>\n",
              "    <tr>\n",
              "      <th>1</th>\n",
              "      <td>MD KAMAL HOSSEN</td>\n",
              "      <td>Male</td>\n",
              "    </tr>\n",
              "    <tr>\n",
              "      <th>2</th>\n",
              "      <td>mafia</td>\n",
              "      <td>Female</td>\n",
              "    </tr>\n",
              "    <tr>\n",
              "      <th>3</th>\n",
              "      <td>amran hosen gazi</td>\n",
              "      <td>Male</td>\n",
              "    </tr>\n",
              "    <tr>\n",
              "      <th>4</th>\n",
              "      <td>MD SATTAR</td>\n",
              "      <td>Male</td>\n",
              "    </tr>\n",
              "  </tbody>\n",
              "</table>\n",
              "</div>"
            ],
            "text/plain": [
              "      CUSTOMER_NAME  GENDER\n",
              "0       subal banik    Male\n",
              "1   MD KAMAL HOSSEN    Male\n",
              "2             mafia  Female\n",
              "3  amran hosen gazi    Male\n",
              "4         MD SATTAR    Male"
            ]
          },
          "metadata": {
            "tags": []
          },
          "execution_count": 16
        }
      ]
    },
    {
      "cell_type": "code",
      "metadata": {
        "colab": {
          "base_uri": "https://localhost:8080/"
        },
        "id": "dEErVkDqTwKy",
        "outputId": "a522ae3a-5f4a-42d1-fd5c-a865bc971962"
      },
      "source": [
        "print(test_df.shape)\n",
        "test_df = test_df.dropna()\n",
        "print(test_df.shape)"
      ],
      "execution_count": 17,
      "outputs": [
        {
          "output_type": "stream",
          "text": [
            "(50000, 2)\n",
            "(47864, 2)\n"
          ],
          "name": "stdout"
        }
      ]
    },
    {
      "cell_type": "code",
      "metadata": {
        "colab": {
          "base_uri": "https://localhost:8080/",
          "height": 202
        },
        "id": "tQBVyFrIUnVl",
        "outputId": "e60d5d8a-4527-40f1-8658-28365ec31baa"
      },
      "source": [
        "for i in range(test_df.shape[0]):\n",
        "  test_df.iloc[i, 0], test_df.iloc[i, 1] = str(test_df.iloc[i, 0]).lower(), str(test_df.iloc[i, 1]).lower()\n",
        "  if test_df.iloc[i, 1] == 'male':\n",
        "    test_df.iloc[i, 1] = 'M'\n",
        "  else:\n",
        "    test_df.iloc[i, 1] = 'F'\n",
        "test_df.head()"
      ],
      "execution_count": 18,
      "outputs": [
        {
          "output_type": "execute_result",
          "data": {
            "text/html": [
              "<div>\n",
              "<style scoped>\n",
              "    .dataframe tbody tr th:only-of-type {\n",
              "        vertical-align: middle;\n",
              "    }\n",
              "\n",
              "    .dataframe tbody tr th {\n",
              "        vertical-align: top;\n",
              "    }\n",
              "\n",
              "    .dataframe thead th {\n",
              "        text-align: right;\n",
              "    }\n",
              "</style>\n",
              "<table border=\"1\" class=\"dataframe\">\n",
              "  <thead>\n",
              "    <tr style=\"text-align: right;\">\n",
              "      <th></th>\n",
              "      <th>CUSTOMER_NAME</th>\n",
              "      <th>GENDER</th>\n",
              "    </tr>\n",
              "  </thead>\n",
              "  <tbody>\n",
              "    <tr>\n",
              "      <th>0</th>\n",
              "      <td>subal banik</td>\n",
              "      <td>M</td>\n",
              "    </tr>\n",
              "    <tr>\n",
              "      <th>1</th>\n",
              "      <td>md kamal hossen</td>\n",
              "      <td>M</td>\n",
              "    </tr>\n",
              "    <tr>\n",
              "      <th>2</th>\n",
              "      <td>mafia</td>\n",
              "      <td>F</td>\n",
              "    </tr>\n",
              "    <tr>\n",
              "      <th>3</th>\n",
              "      <td>amran hosen gazi</td>\n",
              "      <td>M</td>\n",
              "    </tr>\n",
              "    <tr>\n",
              "      <th>4</th>\n",
              "      <td>md sattar</td>\n",
              "      <td>M</td>\n",
              "    </tr>\n",
              "  </tbody>\n",
              "</table>\n",
              "</div>"
            ],
            "text/plain": [
              "      CUSTOMER_NAME GENDER\n",
              "0       subal banik      M\n",
              "1   md kamal hossen      M\n",
              "2             mafia      F\n",
              "3  amran hosen gazi      M\n",
              "4         md sattar      M"
            ]
          },
          "metadata": {
            "tags": []
          },
          "execution_count": 18
        }
      ]
    },
    {
      "cell_type": "code",
      "metadata": {
        "id": "xcta8nskUxTa"
      },
      "source": [
        "test_X, test_y = list(test_df.iloc[:, 0]), list(test_df.iloc[:, 1])\n",
        "test_vectors = vectorzier.transform(test_X).toarray()"
      ],
      "execution_count": 19,
      "outputs": []
    },
    {
      "cell_type": "code",
      "metadata": {
        "id": "QG5XiWUdU3Z2"
      },
      "source": [
        "test_predictions = list(classifier.predict(test_vectors))\n",
        "test_predictions = ['M' if prediction == 1 else 'F' for prediction in test_predictions]"
      ],
      "execution_count": 20,
      "outputs": []
    },
    {
      "cell_type": "code",
      "metadata": {
        "colab": {
          "base_uri": "https://localhost:8080/"
        },
        "id": "9Vxoa5HVVMvb",
        "outputId": "8329cbaa-d0fa-4aef-dc02-3ab1dc7600c4"
      },
      "source": [
        "accuracy = accuracy_score(test_y, test_predictions)\n",
        "print(f\"Accuracy : {round(accuracy * 100, 2)}%\")"
      ],
      "execution_count": 21,
      "outputs": [
        {
          "output_type": "stream",
          "text": [
            "Accuracy : 73.82%\n"
          ],
          "name": "stdout"
        }
      ]
    },
    {
      "cell_type": "code",
      "metadata": {
        "id": "WkIJqDxQVU94"
      },
      "source": [
        "result = pd.DataFrame(list(zip(test_X, test_y, test_predictions)), columns=['Name', 'Original Gender', 'Predicted Gender'])\n",
        "result.to_csv('/content/drive/MyDrive/Colab Notebooks/Result(Conventional).csv', index=False) "
      ],
      "execution_count": 22,
      "outputs": []
    },
    {
      "cell_type": "code",
      "metadata": {
        "id": "LNyBg1dcPduh"
      },
      "source": [
        "# ##### Count Vectorizer -> Analyzer = Word, Max Features = 5000 #####\n",
        "\n",
        "# ## CV Train Result ##\n",
        "\n",
        "# Classifier             Accuracy    Precision    Recall    F1-Score\n",
        "# -------------------  ----------  -----------  --------  ----------\n",
        "# Logistic Regression       99.08        99.09     99.08       99.08\n",
        "# Multinomial NB            99.22        99.22     99.22       99.22\n",
        "# Random Forest             99.99        99.99     99.99       99.99\n",
        "# SVC                       99.11        99.11     99.11       99.11\n",
        "# AdaBoost                  89           90.43     89          88.91\n",
        "# GradientBoost             89.3         91.02     89.3        89.19\n",
        "\n",
        "\n",
        "# ## CV Test Result ##\n",
        "\n",
        "# Classifier             Accuracy    Precision    Recall    F1-Score\n",
        "# -------------------  ----------  -----------  --------  ----------\n",
        "# Logistic Regression       93.88        94.02     93.88       93.87\n",
        "# Multinomial NB            95.24        95.29     95.24       95.23\n",
        "# Random Forest             93.06        93.26     93.06       93.06\n",
        "# SVC                       92.67        92.94     92.67       92.66\n",
        "# AdaBoost                  88.65        90.12     88.65       88.54\n",
        "# GradientBoost             88.6         90.41     88.6        88.47"
      ],
      "execution_count": 23,
      "outputs": []
    },
    {
      "cell_type": "code",
      "metadata": {
        "id": "XsuoKpqJY50m"
      },
      "source": [
        "# ##### Count Vectorizer -> Analyzer = Char, Max Features = 5000 #####\n",
        "\n",
        "# ## CV Train Result ##\n",
        "\n",
        "# Classifier             Accuracy    Precision    Recall    F1-Score\n",
        "# -------------------  ----------  -----------  --------  ----------\n",
        "# Logistic Regression       86.88        86.94     86.88       86.87\n",
        "# Multinomial NB            84.95        84.97     84.95       84.95\n",
        "# Random Forest             99.97        99.97     99.97       99.97\n",
        "# SVC                       92.46        92.51     92.46       92.46\n",
        "# AdaBoost                  87.09        87.12     87.09       87.09\n",
        "# GradientBoost             90.05        90.06     90.05       90.05\n",
        "\n",
        "\n",
        "# ## CV Test Result ##\n",
        "\n",
        "# Classifier             Accuracy    Precision    Recall    F1-Score\n",
        "# -------------------  ----------  -----------  --------  ----------\n",
        "# Logistic Regression       86.84        86.89     86.84       86.83\n",
        "# Multinomial NB            84.89        84.92     84.89       84.89\n",
        "# Random Forest             90.59        90.61     90.59       90.59\n",
        "# SVC                       90.26        90.32     90.26       90.26\n",
        "# AdaBoost                  86.73        86.77     86.73       86.73\n",
        "# GradientBoost             88.6         88.61     88.6        88.6"
      ],
      "execution_count": 24,
      "outputs": []
    },
    {
      "cell_type": "code",
      "metadata": {
        "id": "TbTR9NdgZgtY"
      },
      "source": [
        "# ##### TFIDF Vectorizer -> Analyzer = Word, Max Features = 5000 #####\n",
        "\n",
        "# ## CV Train Result ##\n",
        "\n",
        "# Classifier             Accuracy    Precision    Recall    F1-Score\n",
        "# -------------------  ----------  -----------  --------  ----------\n",
        "# Logistic Regression       98.55        98.56     98.55       98.55\n",
        "# Multinomial NB            99.41        99.42     99.41       99.41\n",
        "# Random Forest             99.97        99.97     99.97       99.97\n",
        "# SVC                       99.89        99.89     99.89       99.89\n",
        "# AdaBoost                  88.81        90.51     88.81       88.69\n",
        "# GradientBoost             89.74        91.17     89.74       89.65\n",
        "\n",
        "\n",
        "# ## CV Test Result ##\n",
        "\n",
        "# Classifier             Accuracy    Precision    Recall    F1-Score\n",
        "# -------------------  ----------  -----------  --------  ----------\n",
        "# Logistic Regression       94.19        94.41     94.19       94.19\n",
        "# Multinomial NB            95.45        95.51     95.45       95.44\n",
        "# Random Forest             93.12        93.39     93.12       93.11\n",
        "# SVC                       94.21        94.42     94.21       94.2\n",
        "# AdaBoost                  88.65        90.27     88.65       88.53\n",
        "# GradientBoost             89.28        90.71     89.28       89.18"
      ],
      "execution_count": 25,
      "outputs": []
    },
    {
      "cell_type": "code",
      "metadata": {
        "id": "9-cb3NjLaPIq"
      },
      "source": [
        "# ##### TFIDF Vectorizer -> Analyzer = Char, Max Features = 5000 #####\n",
        "\n",
        "# ## CV Train Result ##\n",
        "\n",
        "# Classifier             Accuracy    Precision    Recall    F1-Score\n",
        "# -------------------  ----------  -----------  --------  ----------\n",
        "# Logistic Regression       86.87        86.88     86.87       86.87\n",
        "# Multinomial NB            83.94        83.95     83.94       83.94\n",
        "# Random Forest             99.99        99.99     99.99       99.99\n",
        "# SVC                       93.55        93.56     93.55       93.55\n",
        "# AdaBoost                  87.15        87.16     87.15       87.15\n",
        "# GradientBoost             91.09        91.09     91.09       91.09\n",
        "\n",
        "\n",
        "# ## CV Test Result ##\n",
        "\n",
        "# Classifier             Accuracy    Precision    Recall    F1-Score\n",
        "# -------------------  ----------  -----------  --------  ----------\n",
        "# Logistic Regression       86.46        86.49     86.46       86.46\n",
        "# Multinomial NB            83.75        83.76     83.75       83.74\n",
        "# Random Forest             89.52        89.55     89.52       89.52\n",
        "# SVC                       90.05        90.07     90.05       90.05\n",
        "# AdaBoost                  86.01        86.03     86.01       86.01\n",
        "# GradientBoost             87.94        87.96     87.94       87.94"
      ],
      "execution_count": 26,
      "outputs": []
    }
  ]
}