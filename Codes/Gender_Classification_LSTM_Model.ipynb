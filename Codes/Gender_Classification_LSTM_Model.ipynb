{
  "nbformat": 4,
  "nbformat_minor": 0,
  "metadata": {
    "accelerator": "GPU",
    "colab": {
      "name": "Gender_Classification_LSTM_Model.ipynb",
      "provenance": [],
      "collapsed_sections": []
    },
    "kernelspec": {
      "display_name": "Python 3",
      "name": "python3"
    },
    "language_info": {
      "name": "python"
    }
  },
  "cells": [
    {
      "cell_type": "code",
      "metadata": {
        "colab": {
          "base_uri": "https://localhost:8080/"
        },
        "id": "sxKuZeA9tZp1",
        "outputId": "c6017662-d702-40a6-c25d-c8d538446316"
      },
      "source": [
        "from google.colab import drive\n",
        "drive.mount('/content/drive')"
      ],
      "execution_count": 1,
      "outputs": [
        {
          "output_type": "stream",
          "text": [
            "Mounted at /content/drive\n"
          ],
          "name": "stdout"
        }
      ]
    },
    {
      "cell_type": "code",
      "metadata": {
        "id": "d2qkNwsntkqI"
      },
      "source": [
        "# Python Pckages\n",
        "import random\n",
        "import string\n",
        "import pandas as pd\n",
        "import numpy as np\n",
        "from tabulate import tabulate\n",
        "import matplotlib.pyplot as plt\n",
        "\n",
        "# ML Packages\n",
        "from sklearn import preprocessing\n",
        "from sklearn.model_selection import train_test_split\n",
        "from sklearn.model_selection import StratifiedKFold\n",
        "from sklearn.feature_extraction.text import CountVectorizer\n",
        "from sklearn.feature_extraction.text import TfidfVectorizer\n",
        "\n",
        "# ML Classifiers\n",
        "from sklearn.svm import SVC\n",
        "from sklearn.naive_bayes import MultinomialNB\n",
        "from sklearn.linear_model import LogisticRegression\n",
        "from sklearn.ensemble import RandomForestClassifier\n",
        "from sklearn.ensemble import AdaBoostClassifier\n",
        "from sklearn.ensemble import GradientBoostingClassifier\n",
        "\n",
        "# Deep ML Packages\n",
        "from sklearn.preprocessing import OneHotEncoder\n",
        "from tensorflow.keras.preprocessing import sequence\n",
        "from tensorflow.keras.models import Sequential\n",
        "from tensorflow.keras.layers import Dense, Embedding, Dense, Activation, Dropout, LSTM, Bidirectional\n",
        "from tensorflow.keras.callbacks import EarlyStopping, ModelCheckpoint, ReduceLROnPlateau\n",
        "from tensorflow.keras.regularizers import l2\n",
        "from tensorflow.keras.utils import plot_model\n",
        "import tensorflow as tf\n",
        "from tensorflow import keras\n",
        "\n",
        "# ML Metrics\n",
        "from sklearn.metrics import accuracy_score"
      ],
      "execution_count": 2,
      "outputs": []
    },
    {
      "cell_type": "code",
      "metadata": {
        "colab": {
          "base_uri": "https://localhost:8080/",
          "height": 35
        },
        "id": "qqBnSeWhJ-nf",
        "outputId": "7a766f0d-6bf2-4b80-ccc4-a3daf4f950ef"
      },
      "source": [
        "gpu = tf.test.gpu_device_name()\n",
        "gpu"
      ],
      "execution_count": null,
      "outputs": [
        {
          "output_type": "execute_result",
          "data": {
            "application/vnd.google.colaboratory.intrinsic+json": {
              "type": "string"
            },
            "text/plain": [
              "'/device:GPU:0'"
            ]
          },
          "metadata": {
            "tags": []
          },
          "execution_count": 3
        }
      ]
    },
    {
      "cell_type": "code",
      "metadata": {
        "id": "-qijdcxGx6aN"
      },
      "source": [
        "removing_characters = list(string.punctuation+'0123456789'+'\\t'+'\\n')\n",
        "def data_preprocessing(df):\n",
        "  # Removing NaN Data\n",
        "  df = df.dropna()\n",
        "\n",
        "  # Seperating Male Indices and Female Indices\n",
        "  male_df = []\n",
        "  female_df = []\n",
        "  for i in range(df.shape[0]):\n",
        "    if df.iloc[i, 1] == 'male':\n",
        "      male_df.append(i)\n",
        "    elif df.iloc[i, 1] == 'female':\n",
        "      female_df.append(i)\n",
        "    df.iloc[i, 0] = str(df.iloc[i, 0]).lower()\n",
        "    # Removing Special Characters and Digits\n",
        "    temp = ''\n",
        "    for char in df.iloc[i, 0]:\n",
        "      if char not in removing_characters:\n",
        "        temp += char\n",
        "    df.iloc[i, 0] = temp\n",
        "    \n",
        "  # Creating New Dataset where Number of Male == Number of Female\n",
        "  sampled_indices = list(random.sample(male_df, len(female_df))) + female_df\n",
        "  sampled_df = df.iloc[sampled_indices, :]\n",
        "\n",
        "  for i in range(sampled_df.shape[0]):\n",
        "    if sampled_df.iloc[i, 1] == \"male\":\n",
        "      sampled_df.iloc[i, 1] = \"M\"\n",
        "    else:\n",
        "      sampled_df.iloc[i, 1] = \"F\"\n",
        "  \n",
        "  sampled_df = sampled_df.sample(frac=1)\n",
        "\n",
        "  return sampled_df\n",
        "\n",
        "# Extracting Maximum Length of All The Names\n",
        "def max_length_extractor_names(names):\n",
        "  max_length = 0\n",
        "  for name in names:\n",
        "    if max_length < len(name):\n",
        "      max_length = len(name)\n",
        "  return max_length\n",
        "\n",
        "# Builds an empty line with a 1 at the index of character\n",
        "def set_flag(i):\n",
        "    temp = np.zeros(len_vocabulary);\n",
        "    temp[i] = 1\n",
        "    return list(temp)\n",
        "\n",
        "# Truncate names and create the matrix\n",
        "def prepare_X(X):\n",
        "    new_list = []\n",
        "    trunc_train_name = [str(i)[0:maxlen] for i in X]\n",
        "\n",
        "    for i in trunc_train_name:\n",
        "        tmp = [set_flag(char_index[j]) for j in str(i)]\n",
        "        for k in range(0,maxlen - len(str(i))):\n",
        "            tmp.append(set_flag(char_index[\"END\"]))\n",
        "        new_list.append(tmp)\n",
        "\n",
        "    return new_list\n",
        "\n",
        "# Label Encoding of y\n",
        "def prepare_y(y):\n",
        "    new_list = []\n",
        "    for i in y:\n",
        "        if i == 'M':\n",
        "            new_list.append([1,0])\n",
        "        else:\n",
        "            new_list.append([0,1])\n",
        "    return new_list"
      ],
      "execution_count": null,
      "outputs": []
    },
    {
      "cell_type": "code",
      "metadata": {
        "colab": {
          "base_uri": "https://localhost:8080/",
          "height": 204
        },
        "id": "Nsh4SfQduIMS",
        "outputId": "c9216547-9ee0-4b4f-abe8-afd470716127"
      },
      "source": [
        "# Load our data\n",
        "df = pd.read_csv(\"/content/drive/MyDrive/Colab Notebooks/Datasets/Filtered_Dataset.csv\")\n",
        "df.head()"
      ],
      "execution_count": null,
      "outputs": [
        {
          "output_type": "execute_result",
          "data": {
            "text/html": [
              "<div>\n",
              "<style scoped>\n",
              "    .dataframe tbody tr th:only-of-type {\n",
              "        vertical-align: middle;\n",
              "    }\n",
              "\n",
              "    .dataframe tbody tr th {\n",
              "        vertical-align: top;\n",
              "    }\n",
              "\n",
              "    .dataframe thead th {\n",
              "        text-align: right;\n",
              "    }\n",
              "</style>\n",
              "<table border=\"1\" class=\"dataframe\">\n",
              "  <thead>\n",
              "    <tr style=\"text-align: right;\">\n",
              "      <th></th>\n",
              "      <th>CUSTOMER_NAME</th>\n",
              "      <th>GENDER</th>\n",
              "    </tr>\n",
              "  </thead>\n",
              "  <tbody>\n",
              "    <tr>\n",
              "      <th>0</th>\n",
              "      <td>Md. Jamal</td>\n",
              "      <td>male</td>\n",
              "    </tr>\n",
              "    <tr>\n",
              "      <th>1</th>\n",
              "      <td>Beplob Chakrabarti</td>\n",
              "      <td>male</td>\n",
              "    </tr>\n",
              "    <tr>\n",
              "      <th>2</th>\n",
              "      <td>Mohammed Amran</td>\n",
              "      <td>male</td>\n",
              "    </tr>\n",
              "    <tr>\n",
              "      <th>3</th>\n",
              "      <td>Samim Ahmed</td>\n",
              "      <td>male</td>\n",
              "    </tr>\n",
              "    <tr>\n",
              "      <th>4</th>\n",
              "      <td>Md. Mamunor Rashid</td>\n",
              "      <td>male</td>\n",
              "    </tr>\n",
              "  </tbody>\n",
              "</table>\n",
              "</div>"
            ],
            "text/plain": [
              "        CUSTOMER_NAME GENDER\n",
              "0           Md. Jamal   male\n",
              "1  Beplob Chakrabarti   male\n",
              "2      Mohammed Amran   male\n",
              "3         Samim Ahmed   male\n",
              "4  Md. Mamunor Rashid   male"
            ]
          },
          "metadata": {
            "tags": []
          },
          "execution_count": 5
        }
      ]
    },
    {
      "cell_type": "code",
      "metadata": {
        "colab": {
          "base_uri": "https://localhost:8080/",
          "height": 578
        },
        "id": "mBtJiObox5Ti",
        "outputId": "6c3b5fda-ba02-4382-a8ed-fb997235b75e"
      },
      "source": [
        "df = data_preprocessing(df)\n",
        "df.head()"
      ],
      "execution_count": null,
      "outputs": [
        {
          "output_type": "stream",
          "text": [
            "/usr/local/lib/python3.7/dist-packages/pandas/core/indexing.py:670: SettingWithCopyWarning: \n",
            "A value is trying to be set on a copy of a slice from a DataFrame\n",
            "\n",
            "See the caveats in the documentation: https://pandas.pydata.org/pandas-docs/stable/user_guide/indexing.html#returning-a-view-versus-a-copy\n",
            "  iloc._setitem_with_indexer(indexer, value)\n",
            "/usr/local/lib/python3.7/dist-packages/ipykernel_launcher.py:14: SettingWithCopyWarning: \n",
            "A value is trying to be set on a copy of a slice from a DataFrame\n",
            "\n",
            "See the caveats in the documentation: https://pandas.pydata.org/pandas-docs/stable/user_guide/indexing.html#returning-a-view-versus-a-copy\n",
            "  \n",
            "/usr/local/lib/python3.7/dist-packages/ipykernel_launcher.py:20: SettingWithCopyWarning: \n",
            "A value is trying to be set on a copy of a slice from a DataFrame\n",
            "\n",
            "See the caveats in the documentation: https://pandas.pydata.org/pandas-docs/stable/user_guide/indexing.html#returning-a-view-versus-a-copy\n",
            "/usr/local/lib/python3.7/dist-packages/ipykernel_launcher.py:28: SettingWithCopyWarning: \n",
            "A value is trying to be set on a copy of a slice from a DataFrame\n",
            "\n",
            "See the caveats in the documentation: https://pandas.pydata.org/pandas-docs/stable/user_guide/indexing.html#returning-a-view-versus-a-copy\n",
            "/usr/local/lib/python3.7/dist-packages/ipykernel_launcher.py:30: SettingWithCopyWarning: \n",
            "A value is trying to be set on a copy of a slice from a DataFrame\n",
            "\n",
            "See the caveats in the documentation: https://pandas.pydata.org/pandas-docs/stable/user_guide/indexing.html#returning-a-view-versus-a-copy\n"
          ],
          "name": "stderr"
        },
        {
          "output_type": "execute_result",
          "data": {
            "text/html": [
              "<div>\n",
              "<style scoped>\n",
              "    .dataframe tbody tr th:only-of-type {\n",
              "        vertical-align: middle;\n",
              "    }\n",
              "\n",
              "    .dataframe tbody tr th {\n",
              "        vertical-align: top;\n",
              "    }\n",
              "\n",
              "    .dataframe thead th {\n",
              "        text-align: right;\n",
              "    }\n",
              "</style>\n",
              "<table border=\"1\" class=\"dataframe\">\n",
              "  <thead>\n",
              "    <tr style=\"text-align: right;\">\n",
              "      <th></th>\n",
              "      <th>CUSTOMER_NAME</th>\n",
              "      <th>GENDER</th>\n",
              "    </tr>\n",
              "  </thead>\n",
              "  <tbody>\n",
              "    <tr>\n",
              "      <th>2603</th>\n",
              "      <td>delayer hossen</td>\n",
              "      <td>M</td>\n",
              "    </tr>\n",
              "    <tr>\n",
              "      <th>5196</th>\n",
              "      <td>khaled hussain</td>\n",
              "      <td>M</td>\n",
              "    </tr>\n",
              "    <tr>\n",
              "      <th>14852</th>\n",
              "      <td>md osman gani bhuiyan</td>\n",
              "      <td>M</td>\n",
              "    </tr>\n",
              "    <tr>\n",
              "      <th>11511</th>\n",
              "      <td>most jesmin sultana</td>\n",
              "      <td>F</td>\n",
              "    </tr>\n",
              "    <tr>\n",
              "      <th>7700</th>\n",
              "      <td>md yasin arafat emon</td>\n",
              "      <td>M</td>\n",
              "    </tr>\n",
              "  </tbody>\n",
              "</table>\n",
              "</div>"
            ],
            "text/plain": [
              "               CUSTOMER_NAME GENDER\n",
              "2603          delayer hossen      M\n",
              "5196          khaled hussain      M\n",
              "14852  md osman gani bhuiyan      M\n",
              "11511    most jesmin sultana      F\n",
              "7700    md yasin arafat emon      M"
            ]
          },
          "metadata": {
            "tags": []
          },
          "execution_count": 6
        }
      ]
    },
    {
      "cell_type": "code",
      "metadata": {
        "colab": {
          "base_uri": "https://localhost:8080/",
          "height": 499
        },
        "id": "-M4Xk1LPxVMX",
        "outputId": "050cfb11-a8e0-44df-b0be-5d25bbd81cb8"
      },
      "source": [
        "customer_names = df['CUSTOMER_NAME'].apply(lambda x: x.lower())\n",
        "gender = df['GENDER']\n",
        "plt.figure(figsize=(12,8))\n",
        "plt.hist([len(name) for name in customer_names], bins=72)\n",
        "plt.title(\"Length of Names\")\n",
        "plt.show()"
      ],
      "execution_count": null,
      "outputs": [
        {
          "output_type": "display_data",
          "data": {
            "image/png": "[encoded data removed]",
            "text/plain": [
              "<Figure size 864x576 with 1 Axes>"
            ]
          },
          "metadata": {
            "tags": []
          }
        }
      ]
    },
    {
      "cell_type": "code",
      "metadata": {
        "colab": {
          "base_uri": "https://localhost:8080/"
        },
        "id": "m5Y3N5K5zqdi",
        "outputId": "c09f7b66-48ff-46d3-b7ca-121b8f0bcf63"
      },
      "source": [
        "print(\"Male : \" + str(sum(gender=='M')))\n",
        "print(\"Female : \" + str(sum(gender=='F')))"
      ],
      "execution_count": null,
      "outputs": [
        {
          "output_type": "stream",
          "text": [
            "Male : 3316\n",
            "Female : 3316\n"
          ],
          "name": "stdout"
        }
      ]
    },
    {
      "cell_type": "code",
      "metadata": {
        "colab": {
          "base_uri": "https://localhost:8080/"
        },
        "id": "aN4egE4G0JoW",
        "outputId": "7dd5e145-9fca-4a82-8050-38dae90d74cd"
      },
      "source": [
        "vocabulary = list(set(' '.join([str(i) for i in customer_names])))\n",
        "vocabulary.append('END')\n",
        "len_vocabulary = len(vocabulary)\n",
        "print(len_vocabulary)\n",
        "vocabulary.sort()\n",
        "print(vocabulary)"
      ],
      "execution_count": null,
      "outputs": [
        {
          "output_type": "stream",
          "text": [
            "28\n",
            "[' ', 'END', 'a', 'b', 'c', 'd', 'e', 'f', 'g', 'h', 'i', 'j', 'k', 'l', 'm', 'n', 'o', 'p', 'q', 'r', 's', 't', 'u', 'v', 'w', 'x', 'y', 'z']\n"
          ],
          "name": "stdout"
        }
      ]
    },
    {
      "cell_type": "code",
      "metadata": {
        "colab": {
          "base_uri": "https://localhost:8080/"
        },
        "id": "lbj9jXYM2OFS",
        "outputId": "a5b9b000-6517-41bf-a3de-f1c716ba5da9"
      },
      "source": [
        "char_index = dict((c, i) for i, c in enumerate(vocabulary))\n",
        "char_index"
      ],
      "execution_count": null,
      "outputs": [
        {
          "output_type": "execute_result",
          "data": {
            "text/plain": [
              "{' ': 0,\n",
              " 'END': 1,\n",
              " 'a': 2,\n",
              " 'b': 3,\n",
              " 'c': 4,\n",
              " 'd': 5,\n",
              " 'e': 6,\n",
              " 'f': 7,\n",
              " 'g': 8,\n",
              " 'h': 9,\n",
              " 'i': 10,\n",
              " 'j': 11,\n",
              " 'k': 12,\n",
              " 'l': 13,\n",
              " 'm': 14,\n",
              " 'n': 15,\n",
              " 'o': 16,\n",
              " 'p': 17,\n",
              " 'q': 18,\n",
              " 'r': 19,\n",
              " 's': 20,\n",
              " 't': 21,\n",
              " 'u': 22,\n",
              " 'v': 23,\n",
              " 'w': 24,\n",
              " 'x': 25,\n",
              " 'y': 26,\n",
              " 'z': 27}"
            ]
          },
          "metadata": {
            "tags": []
          },
          "execution_count": 10
        }
      ]
    },
    {
      "cell_type": "code",
      "metadata": {
        "colab": {
          "base_uri": "https://localhost:8080/"
        },
        "id": "EKjitvxQ2u5m",
        "outputId": "c92458f0-4ce7-4ebd-f2df-60f6344e4e9d"
      },
      "source": [
        "maxlen = max_length_extractor_names(customer_names)\n",
        "labels = len(list(set(gender)))\n",
        "print(f\"Maximum Name Length: {maxlen} \\t Labels: {labels}\")"
      ],
      "execution_count": null,
      "outputs": [
        {
          "output_type": "stream",
          "text": [
            "Maximum Name Length: 35 \t Labels: 2\n"
          ],
          "name": "stdout"
        }
      ]
    },
    {
      "cell_type": "code",
      "metadata": {
        "id": "PDF88opt2Z5u"
      },
      "source": [
        "X = []\n",
        "y = []\n",
        "X = prepare_X(customer_names.values)\n",
        "y = prepare_y(gender)"
      ],
      "execution_count": null,
      "outputs": []
    },
    {
      "cell_type": "code",
      "metadata": {
        "id": "eQWlzokx2sIq"
      },
      "source": [
        "X_train, X_test, y_train, y_test = train_test_split(X, y, test_size=0.30)"
      ],
      "execution_count": null,
      "outputs": []
    },
    {
      "cell_type": "code",
      "metadata": {
        "id": "AwV0DgLu4MWr"
      },
      "source": [
        "model = Sequential()\n",
        "model.add(Bidirectional(LSTM(512, return_sequences=True), \n",
        "                        backward_layer=LSTM(512, return_sequences=True, go_backwards=True), \n",
        "                        input_shape=(maxlen,len_vocabulary)))\n",
        "model.add(Dropout(0.2))\n",
        "model.add(Bidirectional(LSTM(512)))\n",
        "model.add(Dropout(0.2))\n",
        "model.add(Dense(2, activity_regularizer=l2(0.002)))\n",
        "model.add(Activation('softmax'))\n",
        "model.compile(loss='categorical_crossentropy', optimizer='adam',metrics=['accuracy'])"
      ],
      "execution_count": null,
      "outputs": []
    },
    {
      "cell_type": "code",
      "metadata": {
        "colab": {
          "base_uri": "https://localhost:8080/",
          "height": 754
        },
        "id": "b_JaNifX4WyX",
        "outputId": "7ea02121-5bc0-4fe0-b4e7-a00fd86123ff"
      },
      "source": [
        "plot_model(model, to_file='/content/drive/MyDrive/Colab Notebooks/Models/Model.png', show_shapes=True, expand_nested=True)"
      ],
      "execution_count": null,
      "outputs": [
        {
          "output_type": "execute_result",
          "data": {
            "image/png": "[encoded data removed]",
            "text/plain": [
              "<IPython.core.display.Image object>"
            ]
          },
          "metadata": {
            "tags": []
          },
          "execution_count": 14
        }
      ]
    },
    {
      "cell_type": "code",
      "metadata": {
        "id": "DVkhTG574eXq"
      },
      "source": [
        "callback = EarlyStopping(monitor='val_loss', patience=5)\n",
        "mc = ModelCheckpoint('/content/drive/MyDrive/Colab Notebooks/Models/Model.h5', monitor='val_loss', mode='min', verbose=1)\n",
        "reduce_lr_acc = ReduceLROnPlateau(monitor='val_accuracy', factor=0.1, patience=2, verbose=1, min_delta=1e-4, mode='max')"
      ],
      "execution_count": null,
      "outputs": []
    },
    {
      "cell_type": "code",
      "metadata": {
        "colab": {
          "base_uri": "https://localhost:8080/"
        },
        "id": "cEVAzOA044qG",
        "outputId": "57edaec8-29cb-403b-b07f-786c4b75cdb4"
      },
      "source": [
        "batch_size = 256\n",
        "history = model.fit(X_train, y_train, batch_size=batch_size, epochs=35, \n",
        "                    verbose=1, validation_data =(X_test, y_test), \n",
        "                    callbacks=[callback, mc, reduce_lr_acc])"
      ],
      "execution_count": null,
      "outputs": [
        {
          "output_type": "stream",
          "text": [
            "Epoch 1/35\n",
            "19/19 [==============================] - 23s 816ms/step - loss: 0.6195 - accuracy: 0.6147 - val_loss: 0.3427 - val_accuracy: 0.8583\n",
            "\n",
            "Epoch 00001: saving model to /content/drive/MyDrive/Colab Notebooks/Models/Model.h5\n",
            "Epoch 2/35\n",
            "19/19 [==============================] - 6s 339ms/step - loss: 0.3389 - accuracy: 0.8574 - val_loss: 0.2806 - val_accuracy: 0.8879\n",
            "\n",
            "Epoch 00002: saving model to /content/drive/MyDrive/Colab Notebooks/Models/Model.h5\n",
            "Epoch 3/35\n",
            "19/19 [==============================] - 6s 338ms/step - loss: 0.2786 - accuracy: 0.8849 - val_loss: 0.2701 - val_accuracy: 0.8854\n",
            "\n",
            "Epoch 00003: saving model to /content/drive/MyDrive/Colab Notebooks/Models/Model.h5\n",
            "Epoch 4/35\n",
            "19/19 [==============================] - 6s 343ms/step - loss: 0.2589 - accuracy: 0.8990 - val_loss: 0.2564 - val_accuracy: 0.8910\n",
            "\n",
            "Epoch 00004: saving model to /content/drive/MyDrive/Colab Notebooks/Models/Model.h5\n",
            "Epoch 5/35\n",
            "19/19 [==============================] - 6s 342ms/step - loss: 0.2477 - accuracy: 0.9038 - val_loss: 0.2420 - val_accuracy: 0.9030\n",
            "\n",
            "Epoch 00005: saving model to /content/drive/MyDrive/Colab Notebooks/Models/Model.h5\n",
            "Epoch 6/35\n",
            "19/19 [==============================] - 6s 343ms/step - loss: 0.2321 - accuracy: 0.9085 - val_loss: 0.2175 - val_accuracy: 0.9101\n",
            "\n",
            "Epoch 00006: saving model to /content/drive/MyDrive/Colab Notebooks/Models/Model.h5\n",
            "Epoch 7/35\n",
            "19/19 [==============================] - 7s 345ms/step - loss: 0.2177 - accuracy: 0.9155 - val_loss: 0.2219 - val_accuracy: 0.9095\n",
            "\n",
            "Epoch 00007: saving model to /content/drive/MyDrive/Colab Notebooks/Models/Model.h5\n",
            "Epoch 8/35\n",
            "19/19 [==============================] - 6s 344ms/step - loss: 0.2156 - accuracy: 0.9133 - val_loss: 0.2161 - val_accuracy: 0.9131\n",
            "\n",
            "Epoch 00008: saving model to /content/drive/MyDrive/Colab Notebooks/Models/Model.h5\n",
            "Epoch 9/35\n",
            "19/19 [==============================] - 6s 344ms/step - loss: 0.2043 - accuracy: 0.9216 - val_loss: 0.1981 - val_accuracy: 0.9196\n",
            "\n",
            "Epoch 00009: saving model to /content/drive/MyDrive/Colab Notebooks/Models/Model.h5\n",
            "Epoch 10/35\n",
            "19/19 [==============================] - 6s 344ms/step - loss: 0.1992 - accuracy: 0.9258 - val_loss: 0.2048 - val_accuracy: 0.9171\n",
            "\n",
            "Epoch 00010: saving model to /content/drive/MyDrive/Colab Notebooks/Models/Model.h5\n",
            "Epoch 11/35\n",
            "19/19 [==============================] - 7s 347ms/step - loss: 0.1996 - accuracy: 0.9223 - val_loss: 0.1888 - val_accuracy: 0.9281\n",
            "\n",
            "Epoch 00011: saving model to /content/drive/MyDrive/Colab Notebooks/Models/Model.h5\n",
            "Epoch 12/35\n",
            "19/19 [==============================] - 6s 344ms/step - loss: 0.1682 - accuracy: 0.9414 - val_loss: 0.1803 - val_accuracy: 0.9352\n",
            "\n",
            "Epoch 00012: saving model to /content/drive/MyDrive/Colab Notebooks/Models/Model.h5\n",
            "Epoch 13/35\n",
            "19/19 [==============================] - 6s 344ms/step - loss: 0.1670 - accuracy: 0.9404 - val_loss: 0.1793 - val_accuracy: 0.9307\n",
            "\n",
            "Epoch 00013: saving model to /content/drive/MyDrive/Colab Notebooks/Models/Model.h5\n",
            "Epoch 14/35\n",
            "19/19 [==============================] - 7s 345ms/step - loss: 0.1578 - accuracy: 0.9408 - val_loss: 0.1639 - val_accuracy: 0.9402\n",
            "\n",
            "Epoch 00014: saving model to /content/drive/MyDrive/Colab Notebooks/Models/Model.h5\n",
            "Epoch 15/35\n",
            "19/19 [==============================] - 6s 343ms/step - loss: 0.1562 - accuracy: 0.9482 - val_loss: 0.1773 - val_accuracy: 0.9281\n",
            "\n",
            "Epoch 00015: saving model to /content/drive/MyDrive/Colab Notebooks/Models/Model.h5\n",
            "Epoch 16/35\n",
            "19/19 [==============================] - 6s 343ms/step - loss: 0.1401 - accuracy: 0.9532 - val_loss: 0.1743 - val_accuracy: 0.9367\n",
            "\n",
            "Epoch 00016: saving model to /content/drive/MyDrive/Colab Notebooks/Models/Model.h5\n",
            "\n",
            "Epoch 00016: ReduceLROnPlateau reducing learning rate to 0.00010000000474974513.\n",
            "Epoch 17/35\n",
            "19/19 [==============================] - 7s 347ms/step - loss: 0.1255 - accuracy: 0.9582 - val_loss: 0.1679 - val_accuracy: 0.9397\n",
            "\n",
            "Epoch 00017: saving model to /content/drive/MyDrive/Colab Notebooks/Models/Model.h5\n",
            "Epoch 18/35\n",
            "19/19 [==============================] - 6s 344ms/step - loss: 0.1189 - accuracy: 0.9640 - val_loss: 0.1650 - val_accuracy: 0.9432\n",
            "\n",
            "Epoch 00018: saving model to /content/drive/MyDrive/Colab Notebooks/Models/Model.h5\n",
            "Epoch 19/35\n",
            "19/19 [==============================] - 6s 344ms/step - loss: 0.1058 - accuracy: 0.9708 - val_loss: 0.1582 - val_accuracy: 0.9477\n",
            "\n",
            "Epoch 00019: saving model to /content/drive/MyDrive/Colab Notebooks/Models/Model.h5\n",
            "Epoch 20/35\n",
            "19/19 [==============================] - 7s 345ms/step - loss: 0.1075 - accuracy: 0.9693 - val_loss: 0.1591 - val_accuracy: 0.9472\n",
            "\n",
            "Epoch 00020: saving model to /content/drive/MyDrive/Colab Notebooks/Models/Model.h5\n",
            "Epoch 21/35\n",
            "19/19 [==============================] - 6s 343ms/step - loss: 0.1062 - accuracy: 0.9717 - val_loss: 0.1651 - val_accuracy: 0.9457\n",
            "\n",
            "Epoch 00021: saving model to /content/drive/MyDrive/Colab Notebooks/Models/Model.h5\n",
            "\n",
            "Epoch 00021: ReduceLROnPlateau reducing learning rate to 1.0000000474974514e-05.\n",
            "Epoch 22/35\n",
            "19/19 [==============================] - 6s 344ms/step - loss: 0.1040 - accuracy: 0.9728 - val_loss: 0.1645 - val_accuracy: 0.9452\n",
            "\n",
            "Epoch 00022: saving model to /content/drive/MyDrive/Colab Notebooks/Models/Model.h5\n",
            "Epoch 23/35\n",
            "19/19 [==============================] - 7s 346ms/step - loss: 0.1011 - accuracy: 0.9726 - val_loss: 0.1647 - val_accuracy: 0.9457\n",
            "\n",
            "Epoch 00023: saving model to /content/drive/MyDrive/Colab Notebooks/Models/Model.h5\n",
            "\n",
            "Epoch 00023: ReduceLROnPlateau reducing learning rate to 1.0000000656873453e-06.\n",
            "Epoch 24/35\n",
            "19/19 [==============================] - 6s 344ms/step - loss: 0.1093 - accuracy: 0.9704 - val_loss: 0.1647 - val_accuracy: 0.9457\n",
            "\n",
            "Epoch 00024: saving model to /content/drive/MyDrive/Colab Notebooks/Models/Model.h5\n"
          ],
          "name": "stdout"
        }
      ]
    },
    {
      "cell_type": "code",
      "metadata": {
        "colab": {
          "base_uri": "https://localhost:8080/",
          "height": 513
        },
        "id": "k9JNZ7sD5BkA",
        "outputId": "232e30b7-be6c-45cd-e650-004eb9a91517"
      },
      "source": [
        "plt.figure(figsize=(12,8))\n",
        "plt.plot(history.history['accuracy'])\n",
        "plt.plot(history.history['val_accuracy'])\n",
        "plt.title('Model accuracy')\n",
        "plt.ylabel('Accuracy')\n",
        "plt.xlabel('Epoch')\n",
        "plt.legend(['Train', 'Test'], loc='upper left')\n",
        "plt.show()"
      ],
      "execution_count": null,
      "outputs": [
        {
          "output_type": "display_data",
          "data": {
            "image/png": "[encoded data removed]",
            "text/plain": [
              "<Figure size 864x576 with 1 Axes>"
            ]
          },
          "metadata": {
            "tags": []
          }
        }
      ]
    },
    {
      "cell_type": "code",
      "metadata": {
        "colab": {
          "base_uri": "https://localhost:8080/",
          "height": 513
        },
        "id": "X713snswTTbr",
        "outputId": "c2e70fb5-ae8f-4a74-93b0-d451ad213f37"
      },
      "source": [
        "plt.figure(figsize=(12,8))\n",
        "plt.plot(history.history['loss'])\n",
        "plt.plot(history.history['val_loss'])\n",
        "plt.title('Model Loss')\n",
        "plt.ylabel('Loss')\n",
        "plt.xlabel('Epoch')\n",
        "plt.legend(['Train', 'Test'], loc='upper left')\n",
        "plt.show()"
      ],
      "execution_count": null,
      "outputs": [
        {
          "output_type": "display_data",
          "data": {
            "image/png": "[encoded data removed]",
            "text/plain": [
              "<Figure size 864x576 with 1 Axes>"
            ]
          },
          "metadata": {
            "tags": []
          }
        }
      ]
    },
    {
      "cell_type": "code",
      "metadata": {
        "id": "c8i4DO3y5LFy"
      },
      "source": [
        "test_names = [\"Rayhan Rashid\",\n",
        "              \"Rani\",\n",
        "              \"Afsana Yeasmin Mili\",\n",
        "              \"Rayhana\",\n",
        "              \"Md. Zahid Hossain Khan\", \n",
        "              \"Shahriar Haque\", \n",
        "              \"Ashique Jubayer\",\n",
        "              \"Nowsin\", \n",
        "              \"Shajedul Islam\",\n",
        "              \"Saif Ahmed Anik\", \n",
        "              \"Toriqul Islam\",\n",
        "              \"Afrina Yeasmin Mithila\",\n",
        "              \"MD. Khalid Hossain Khan\",\n",
        "              \"Md. Faruque Hossain Khan\",\n",
        "              \"Md. Abdul Aziz Khan\",\n",
        "              \"Samsun Nahar\",\n",
        "              \"Farhana Sharmin\",\n",
        "              \"Mahbub Azam\",\n",
        "              \"Roni Hauladar\", \n",
        "              \"Chowdhuri Mofizur Rahman\",\n",
        "              \"Sajid Ahmed\",\n",
        "              \"Swakkhar Swatabda\",\n",
        "              \"Sabila Nowshin\",\n",
        "              \"Rifat Jabin\",\n",
        "              \"Tithi\",\n",
        "              \"Tanvir Rashid\",\n",
        "              \"Kamrul Islam Tushar\",\n",
        "              \"Sahanaj\",\n",
        "              \"Suma Akhter\",\n",
        "              \"Nishat Fariha\",\n",
        "              \"Faiza Alam\",\n",
        "              \"Ripon Khan\",\n",
        "              \"Ridita Afrin\"]"
      ],
      "execution_count": null,
      "outputs": []
    },
    {
      "cell_type": "code",
      "metadata": {
        "colab": {
          "base_uri": "https://localhost:8080/"
        },
        "id": "CzAsy1vgREiD",
        "outputId": "5830ea94-c3e0-4c31-b857-e613d18e94bc"
      },
      "source": [
        "for i in range(len(test_names)):\n",
        "  temp = ''\n",
        "  for char in test_names[i]:\n",
        "    if char not in removing_characters:\n",
        "      temp += char\n",
        "  test_names[i] = temp\n",
        "test_names"
      ],
      "execution_count": null,
      "outputs": [
        {
          "output_type": "execute_result",
          "data": {
            "text/plain": [
              "['Rayhan Rashid',\n",
              " 'Rani',\n",
              " 'Afsana Yeasmin Mili',\n",
              " 'Rayhana',\n",
              " 'Md Zahid Hossain Khan',\n",
              " 'Shahriar Haque',\n",
              " 'Ashique Jubayer',\n",
              " 'Nowsin',\n",
              " 'Shajedul Islam',\n",
              " 'Saif Ahmed Anik',\n",
              " 'Toriqul Islam',\n",
              " 'Afrina Yeasmin Mithila',\n",
              " 'MD Khalid Hossain Khan',\n",
              " 'Md Faruque Hossain Khan',\n",
              " 'Md Abdul Aziz Khan',\n",
              " 'Samsun Nahar',\n",
              " 'Farhana Sharmin',\n",
              " 'Mahbub Azam',\n",
              " 'Roni Hauladar',\n",
              " 'Chowdhuri Mofizur Rahman',\n",
              " 'Sajid Ahmed',\n",
              " 'Swakkhar Swatabda',\n",
              " 'Sabila Nowshin',\n",
              " 'Rifat Jabin',\n",
              " 'Tithi',\n",
              " 'Tanvir Rashid',\n",
              " 'Kamrul Islam Tushar',\n",
              " 'Sahanaj',\n",
              " 'Suma Akhter',\n",
              " 'Nishat Fariha',\n",
              " 'Faiza Alam',\n",
              " 'Ripon Khan',\n",
              " 'Ridita Afrin']"
            ]
          },
          "metadata": {
            "tags": []
          },
          "execution_count": 20
        }
      ]
    },
    {
      "cell_type": "code",
      "metadata": {
        "colab": {
          "base_uri": "https://localhost:8080/"
        },
        "id": "L9Ha2dfR65S7",
        "outputId": "46ebff16-5788-4c13-8046-d00579bfe485"
      },
      "source": [
        "X_pred = prepare_X([name.lower() for name in test_names])\n",
        "predictions = model.predict(X_pred)\n",
        "predictions"
      ],
      "execution_count": null,
      "outputs": [
        {
          "output_type": "execute_result",
          "data": {
            "text/plain": [
              "array([[0.7765872 , 0.22341277],\n",
              "       [0.07147799, 0.92852205],\n",
              "       [0.00732494, 0.9926751 ],\n",
              "       [0.02179801, 0.9782019 ],\n",
              "       [0.99214786, 0.00785218],\n",
              "       [0.33386004, 0.66613996],\n",
              "       [0.7907846 , 0.20921548],\n",
              "       [0.42011344, 0.57988656],\n",
              "       [0.984501  , 0.01549897],\n",
              "       [0.9803125 , 0.01968749],\n",
              "       [0.9919635 , 0.00803651],\n",
              "       [0.00427662, 0.99572337],\n",
              "       [0.9902621 , 0.00973791],\n",
              "       [0.9930409 , 0.00695902],\n",
              "       [0.98949754, 0.01050245],\n",
              "       [0.00369116, 0.99630886],\n",
              "       [0.5371526 , 0.46284738],\n",
              "       [0.96279967, 0.0372003 ],\n",
              "       [0.7312449 , 0.2687551 ],\n",
              "       [0.97567356, 0.02432644],\n",
              "       [0.9839295 , 0.01607047],\n",
              "       [0.9426996 , 0.05730041],\n",
              "       [0.14449959, 0.85550046],\n",
              "       [0.44872123, 0.5512788 ],\n",
              "       [0.01002685, 0.9899732 ],\n",
              "       [0.8470056 , 0.15299444],\n",
              "       [0.98313785, 0.01686215],\n",
              "       [0.4174227 , 0.5825773 ],\n",
              "       [0.01473526, 0.9852647 ],\n",
              "       [0.15183882, 0.84816116],\n",
              "       [0.1381878 , 0.86181223],\n",
              "       [0.8691099 , 0.13089006],\n",
              "       [0.00547992, 0.9945201 ]], dtype=float32)"
            ]
          },
          "metadata": {
            "tags": []
          },
          "execution_count": 21
        }
      ]
    },
    {
      "cell_type": "code",
      "metadata": {
        "id": "rfpNBe3s6_rD"
      },
      "source": [
        "test_prediction = ['M' if np.argmax(prediction) == 0 else 'F' for prediction in predictions]"
      ],
      "execution_count": null,
      "outputs": []
    },
    {
      "cell_type": "code",
      "metadata": {
        "colab": {
          "base_uri": "https://localhost:8080/"
        },
        "id": "p05HgYdan-5y",
        "outputId": "e55b86cd-1041-43f1-9e52-87c7e36d631e"
      },
      "source": [
        "test_table = []\n",
        "for i in range(len(test_names)):\n",
        "  test_table.append([test_names[i], test_prediction[i]])\n",
        "print(\"\\n\\n## Test Names Result ##\\n\")\n",
        "print(tabulate(test_table, headers= ['Name', 'Gender']))"
      ],
      "execution_count": null,
      "outputs": [
        {
          "output_type": "stream",
          "text": [
            "\n",
            "\n",
            "## Test Names Result ##\n",
            "\n",
            "Name                      Gender\n",
            "------------------------  --------\n",
            "Rayhan Rashid             M\n",
            "Rani                      F\n",
            "Afsana Yeasmin Mili       F\n",
            "Rayhana                   F\n",
            "Md Zahid Hossain Khan     M\n",
            "Shahriar Haque            F\n",
            "Ashique Jubayer           M\n",
            "Nowsin                    F\n",
            "Shajedul Islam            M\n",
            "Saif Ahmed Anik           M\n",
            "Toriqul Islam             M\n",
            "Afrina Yeasmin Mithila    F\n",
            "MD Khalid Hossain Khan    M\n",
            "Md Faruque Hossain Khan   M\n",
            "Md Abdul Aziz Khan        M\n",
            "Samsun Nahar              F\n",
            "Farhana Sharmin           M\n",
            "Mahbub Azam               M\n",
            "Roni Hauladar             M\n",
            "Chowdhuri Mofizur Rahman  M\n",
            "Sajid Ahmed               M\n",
            "Swakkhar Swatabda         M\n",
            "Sabila Nowshin            F\n",
            "Rifat Jabin               F\n",
            "Tithi                     F\n",
            "Tanvir Rashid             M\n",
            "Kamrul Islam Tushar       M\n",
            "Sahanaj                   F\n",
            "Suma Akhter               F\n",
            "Nishat Fariha             F\n",
            "Faiza Alam                F\n",
            "Ripon Khan                M\n",
            "Ridita Afrin              F\n"
          ],
          "name": "stdout"
        }
      ]
    },
    {
      "cell_type": "code",
      "metadata": {
        "id": "9tdCmuB078ca"
      },
      "source": [
        "##### 50K Test Data #####"
      ],
      "execution_count": null,
      "outputs": []
    },
    {
      "cell_type": "code",
      "metadata": {
        "id": "iWIOQHohrKz1"
      },
      "source": [
        "# Loading Saved Model\n",
        "model = keras.models.load_model(\"/content/drive/MyDrive/Colab Notebooks/Models/Model - Run 3.h5\")"
      ],
      "execution_count": null,
      "outputs": []
    },
    {
      "cell_type": "code",
      "metadata": {
        "colab": {
          "base_uri": "https://localhost:8080/",
          "height": 204
        },
        "id": "o9F7OcefFTRc",
        "outputId": "ced2b418-5bc4-4016-9fcb-88663cc3fa38"
      },
      "source": [
        "# Load test data\n",
        "test_df = pd.read_csv(\"/content/drive/MyDrive/Colab Notebooks/Datasets/Dataset_0.6_Million.csv\")\n",
        "test_df.head()"
      ],
      "execution_count": 3,
      "outputs": [
        {
          "output_type": "execute_result",
          "data": {
            "text/html": [
              "<div>\n",
              "<style scoped>\n",
              "    .dataframe tbody tr th:only-of-type {\n",
              "        vertical-align: middle;\n",
              "    }\n",
              "\n",
              "    .dataframe tbody tr th {\n",
              "        vertical-align: top;\n",
              "    }\n",
              "\n",
              "    .dataframe thead th {\n",
              "        text-align: right;\n",
              "    }\n",
              "</style>\n",
              "<table border=\"1\" class=\"dataframe\">\n",
              "  <thead>\n",
              "    <tr style=\"text-align: right;\">\n",
              "      <th></th>\n",
              "      <th>CUSTOMER_NAME</th>\n",
              "      <th>GENDER</th>\n",
              "    </tr>\n",
              "  </thead>\n",
              "  <tbody>\n",
              "    <tr>\n",
              "      <th>0</th>\n",
              "      <td>Md Melon Mondol</td>\n",
              "      <td>male</td>\n",
              "    </tr>\n",
              "    <tr>\n",
              "      <th>1</th>\n",
              "      <td>Md Alauddin Khalifa</td>\n",
              "      <td>male</td>\n",
              "    </tr>\n",
              "    <tr>\n",
              "      <th>2</th>\n",
              "      <td>Dipok Das</td>\n",
              "      <td>male</td>\n",
              "    </tr>\n",
              "    <tr>\n",
              "      <th>3</th>\n",
              "      <td>Md. Faruq Hossen</td>\n",
              "      <td>male</td>\n",
              "    </tr>\n",
              "    <tr>\n",
              "      <th>4</th>\n",
              "      <td>Mst Saida Begum</td>\n",
              "      <td>female</td>\n",
              "    </tr>\n",
              "  </tbody>\n",
              "</table>\n",
              "</div>"
            ],
            "text/plain": [
              "         CUSTOMER_NAME  GENDER\n",
              "0      Md Melon Mondol    male\n",
              "1  Md Alauddin Khalifa    male\n",
              "2            Dipok Das    male\n",
              "3     Md. Faruq Hossen    male\n",
              "4      Mst Saida Begum  female"
            ]
          },
          "metadata": {
            "tags": []
          },
          "execution_count": 3
        }
      ]
    },
    {
      "cell_type": "code",
      "metadata": {
        "colab": {
          "base_uri": "https://localhost:8080/"
        },
        "id": "yc4QiGdIFqb8",
        "outputId": "fb76f93c-f614-45a8-ac79-4ba673d5f281"
      },
      "source": [
        "print(test_df.shape)\n",
        "test_df = test_df.dropna()\n",
        "print(test_df.shape)"
      ],
      "execution_count": 4,
      "outputs": [
        {
          "output_type": "stream",
          "text": [
            "(620802, 2)\n",
            "(620802, 2)\n"
          ],
          "name": "stdout"
        }
      ]
    },
    {
      "cell_type": "code",
      "metadata": {
        "id": "7FK2gd85LvGT"
      },
      "source": [
        "with tf.device(\"/gpu:0\"):\n",
        "  for i in range(test_df.shape[0]):\n",
        "    temp = ''\n",
        "    for char in test_df.iloc[i, 0]:\n",
        "      if char not in removing_characters:\n",
        "        temp += char\n",
        "    test_df.iloc[i, 0] = temp\n",
        "    test_df.iloc[i, 0], test_df.iloc[i, 1] = str(test_df.iloc[i, 0]).lower(), str(test_df.iloc[i, 1]).lower()\n",
        "    if test_df.iloc[i, 1] == 'male':\n",
        "      test_df.iloc[i, 1] = 'M'\n",
        "    else:\n",
        "      test_df.iloc[i, 1] = 'F'\n",
        "  test_df.head()"
      ],
      "execution_count": null,
      "outputs": []
    },
    {
      "cell_type": "code",
      "metadata": {
        "colab": {
          "base_uri": "https://localhost:8080/"
        },
        "id": "_rBe_qRcIhKK",
        "outputId": "c7404ad1-e1b1-4ba7-bde7-45feb06d30a7"
      },
      "source": [
        "with tf.device(\"/gpu:0\"):\n",
        "  final_accuracy = []\n",
        "  final_predictions = []\n",
        "  final_test_y = []\n",
        "  final_test_X = []\n",
        "  hop = 69905\n",
        "  start = 0\n",
        "  end = hop\n",
        "  while end <= test_df.shape[0]:\n",
        "    test_X, test_y = list(test_df.iloc[start:end, 0]), list(test_df.iloc[start:end, 1])\n",
        "    test_X_pred = prepare_X(test_X)\n",
        "    test_predictions = model.predict(test_X_pred)\n",
        "    final_test_predictions = ['M' if np.argmax(prediction) == 0 else 'F' for prediction in test_predictions]\n",
        "    final_test_X.append(test_X)\n",
        "    final_test_y.append(test_y)\n",
        "    final_predictions.append(final_test_predictions)\n",
        "    accuracy = accuracy_score(test_y, final_test_predictions)\n",
        "    final_accuracy.append(accuracy)\n",
        "    start += hop\n",
        "    end += hop\n",
        "    print(f\"Accuracy : {round(accuracy * 100, 2)}%\")"
      ],
      "execution_count": null,
      "outputs": [
        {
          "output_type": "stream",
          "text": [
            "Accuracy : 92.18%\n",
            "Accuracy : 91.27%\n",
            "Accuracy : 89.82%\n",
            "Accuracy : 92.13%\n",
            "Accuracy : 91.13%\n",
            "Accuracy : 89.87%\n",
            "Accuracy : 92.08%\n",
            "Accuracy : 91.08%\n",
            "Accuracy : 89.61%\n",
            "Accuracy : 92.19%\n",
            "Accuracy : 90.75%\n",
            "Accuracy : 89.99%\n",
            "Accuracy : 92.06%\n",
            "Accuracy : 90.97%\n",
            "Accuracy : 89.83%\n"
          ],
          "name": "stdout"
        }
      ]
    },
    {
      "cell_type": "code",
      "metadata": {
        "id": "HFN5xetQDGYc"
      },
      "source": [
        "rX = []\n",
        "rY = []\n",
        "rP = []\n",
        "for i in range(len(final_test_X)):\n",
        "  for j in range(len(final_test_X[i])):\n",
        "    rX.append(final_test_X[i][j])\n",
        "    rY.append(final_test_y[i][j])\n",
        "    rP.append(final_predictions[i][j])"
      ],
      "execution_count": null,
      "outputs": []
    },
    {
      "cell_type": "code",
      "metadata": {
        "colab": {
          "base_uri": "https://localhost:8080/"
        },
        "id": "cJAIFH9_Yvb3",
        "outputId": "67fd8ee6-235f-4a76-8e0f-ab7a5f6aa184"
      },
      "source": [
        "print(final_accuracy)"
      ],
      "execution_count": null,
      "outputs": [
        {
          "output_type": "stream",
          "text": [
            "[0.9217795579715328, 0.912695801444818, 0.8981904012588513, 0.9212788784779343, 0.9112509834775767, 0.8987483012660039, 0.9207925041127244, 0.9108361347543095, 0.8960875473857378, 0.921922609255418, 0.907488734711394, 0.8998784064086975, 0.9206208425720621, 0.9096917244832272, 0.898290537157571]\n"
          ],
          "name": "stdout"
        }
      ]
    },
    {
      "cell_type": "code",
      "metadata": {
        "colab": {
          "base_uri": "https://localhost:8080/"
        },
        "id": "E_0TTOm5YQ4s",
        "outputId": "1b33d99f-cfc1-434b-ed59-fed827201a2a"
      },
      "source": [
        "print(f\"Accuracy : {round(np.mean(final_accuracy) * 100, 2)}%\")"
      ],
      "execution_count": null,
      "outputs": [
        {
          "output_type": "stream",
          "text": [
            "Accuracy : 91.0%\n"
          ],
          "name": "stdout"
        }
      ]
    },
    {
      "cell_type": "code",
      "metadata": {
        "id": "A3XUYN77Yqf_"
      },
      "source": [
        "result = pd.DataFrame(list(zip(rX, rY, rP)), columns=['Name', 'Original Gender', 'Predicted Gender'])\n",
        "result.to_csv('/content/drive/MyDrive/Colab Notebooks/Results/Result(LSTM) - 1 Million.csv', index=False) "
      ],
      "execution_count": null,
      "outputs": []
    },
    {
      "cell_type": "code",
      "metadata": {
        "id": "cjzrFEtzZrBf"
      },
      "source": [
        "result_06 = [0.9241142908689083, 0.9131542746318472, 0.9089822519901676, 0.8998263536522112, 0.9096362447285931, 0.920009922648445, 0.9127257966308098, 0.908463568094175, 0.8945493087973299, 0.9176420179058702, 0.9184989739079449, 0.9113727082064813, 0.9025099790271294, 0.8948650294296733]\n",
        "result_10 = [0.9217795579715328, 0.912695801444818, 0.8981904012588513, 0.9212788784779343, 0.9112509834775767, 0.8987483012660039, 0.9207925041127244, 0.9108361347543095, 0.8960875473857378, 0.921922609255418, 0.907488734711394, 0.8998784064086975, 0.9206208425720621, 0.9096917244832272, 0.898290537157571]"
      ],
      "execution_count": 5,
      "outputs": []
    },
    {
      "cell_type": "code",
      "metadata": {
        "colab": {
          "base_uri": "https://localhost:8080/"
        },
        "id": "bPHZxg_MZrIi",
        "outputId": "a9382a9c-2961-49a4-c0bf-46a61bd940a5"
      },
      "source": [
        "result_16 = result_06 + result_10\n",
        "result_16"
      ],
      "execution_count": 6,
      "outputs": [
        {
          "output_type": "execute_result",
          "data": {
            "text/plain": [
              "[0.9241142908689083,\n",
              " 0.9131542746318472,\n",
              " 0.9089822519901676,\n",
              " 0.8998263536522112,\n",
              " 0.9096362447285931,\n",
              " 0.920009922648445,\n",
              " 0.9127257966308098,\n",
              " 0.908463568094175,\n",
              " 0.8945493087973299,\n",
              " 0.9176420179058702,\n",
              " 0.9184989739079449,\n",
              " 0.9113727082064813,\n",
              " 0.9025099790271294,\n",
              " 0.8948650294296733,\n",
              " 0.9217795579715328,\n",
              " 0.912695801444818,\n",
              " 0.8981904012588513,\n",
              " 0.9212788784779343,\n",
              " 0.9112509834775767,\n",
              " 0.8987483012660039,\n",
              " 0.9207925041127244,\n",
              " 0.9108361347543095,\n",
              " 0.8960875473857378,\n",
              " 0.921922609255418,\n",
              " 0.907488734711394,\n",
              " 0.8998784064086975,\n",
              " 0.9206208425720621,\n",
              " 0.9096917244832272,\n",
              " 0.898290537157571]"
            ]
          },
          "metadata": {
            "tags": []
          },
          "execution_count": 6
        }
      ]
    },
    {
      "cell_type": "code",
      "metadata": {
        "colab": {
          "base_uri": "https://localhost:8080/"
        },
        "id": "BgXktvLpS3OU",
        "outputId": "69028b8c-2058-4383-f963-6cb3800a2157"
      },
      "source": [
        "print(\"==> 1 Million Test Data\\n\")\n",
        "for i in range(len(result_10)):\n",
        "  print(f\"Batch \\t{i+1}: {round(result_10[i] * 100, 2)} %\")\n",
        "print(f\"Average\\t  : {round(np.mean(result_10) * 100, 2)} %\")\n",
        "\n",
        "print(\"\\n\\n==> 0.6 Million Test Data\\n\")\n",
        "for i in range(len(result_06)):\n",
        "  print(f\"Batch \\t{i+1}: {round(result_06[i] * 100, 2)} %\")\n",
        "print(f\"Average\\t  : {round(np.mean(result_06) * 100, 2)} %\")"
      ],
      "execution_count": 13,
      "outputs": [
        {
          "output_type": "stream",
          "text": [
            "==> 1 Million Test Data\n",
            "\n",
            "Batch \t1: 92.18 %\n",
            "Batch \t2: 91.27 %\n",
            "Batch \t3: 89.82 %\n",
            "Batch \t4: 92.13 %\n",
            "Batch \t5: 91.13 %\n",
            "Batch \t6: 89.87 %\n",
            "Batch \t7: 92.08 %\n",
            "Batch \t8: 91.08 %\n",
            "Batch \t9: 89.61 %\n",
            "Batch \t10: 92.19 %\n",
            "Batch \t11: 90.75 %\n",
            "Batch \t12: 89.99 %\n",
            "Batch \t13: 92.06 %\n",
            "Batch \t14: 90.97 %\n",
            "Batch \t15: 89.83 %\n",
            "Average\t  : 91.0 %\n",
            "\n",
            "\n",
            "==> 0.6 Million Test Data\n",
            "\n",
            "Batch \t1: 92.41 %\n",
            "Batch \t2: 91.32 %\n",
            "Batch \t3: 90.9 %\n",
            "Batch \t4: 89.98 %\n",
            "Batch \t5: 90.96 %\n",
            "Batch \t6: 92.0 %\n",
            "Batch \t7: 91.27 %\n",
            "Batch \t8: 90.85 %\n",
            "Batch \t9: 89.45 %\n",
            "Batch \t10: 91.76 %\n",
            "Batch \t11: 91.85 %\n",
            "Batch \t12: 91.14 %\n",
            "Batch \t13: 90.25 %\n",
            "Batch \t14: 89.49 %\n",
            "Average\t  : 90.97 %\n"
          ],
          "name": "stdout"
        }
      ]
    },
    {
      "cell_type": "code",
      "metadata": {
        "colab": {
          "base_uri": "https://localhost:8080/"
        },
        "id": "M5eBqvlEZrP3",
        "outputId": "bb2f9626-c15a-40f7-babf-616591df2a80"
      },
      "source": [
        "print(f\"Average Accuracy of 1.6 Million Data: {round(np.mean(result_16) * 100, 2)}%\")"
      ],
      "execution_count": null,
      "outputs": [
        {
          "output_type": "stream",
          "text": [
            "Average Accuracy of 1.6 Million Data: 90.99%\n"
          ],
          "name": "stdout"
        }
      ]
    },
    {
      "cell_type": "code",
      "metadata": {
        "id": "0LaFS85eIWu7"
      },
      "source": [
        "# test_X_pred = prepare_X(test_X)\n",
        "# test_predictions = model.predict(test_X_pred)\n",
        "# test_predictions"
      ],
      "execution_count": null,
      "outputs": []
    },
    {
      "cell_type": "code",
      "metadata": {
        "id": "Pz7n3XHrJS8-"
      },
      "source": [
        "# final_test_predictions = ['M' if np.argmax(prediction) == 0 else 'F' for prediction in test_predictions]"
      ],
      "execution_count": null,
      "outputs": []
    },
    {
      "cell_type": "code",
      "metadata": {
        "id": "3kV5UE22O-V3"
      },
      "source": [
        "# accuracy = accuracy_score(test_y, final_test_predictions)\n",
        "# print(f\"Accuracy : {round(accuracy * 100, 2)}%\")"
      ],
      "execution_count": null,
      "outputs": []
    },
    {
      "cell_type": "code",
      "metadata": {
        "id": "KJPIp4qkN5yt"
      },
      "source": [
        "# result = pd.DataFrame(list(zip(test_X, test_y, final_test_predictions)), columns=['Name', 'Original Gender', 'Predicted Gender'])\n",
        "# result.to_csv('/content/drive/MyDrive/Colab Notebooks/Results/Result(LSTM) - 0.6 Million.csv', index=False) "
      ],
      "execution_count": null,
      "outputs": []
    },
    {
      "cell_type": "code",
      "metadata": {
        "id": "vzdtH47FtV-A"
      },
      "source": [
        "# Average Accuracy of 0.6 Million Data: 90.97%\n",
        "# Average Accuracy of 1.0 Million Data: 91.00%\n",
        "# Average Accuracy of 1.6 Million Data: 90.99%"
      ],
      "execution_count": null,
      "outputs": []
    }
  ]
}